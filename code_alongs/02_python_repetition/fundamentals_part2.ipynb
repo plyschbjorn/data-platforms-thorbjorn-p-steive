{
 "cells": [
  {
   "cell_type": "markdown",
   "metadata": {},
   "source": [
    "## Code along - Fundamentals Part 2"
   ]
  },
  {
   "cell_type": "markdown",
   "metadata": {},
   "source": [
    "## Error handling\n",
    "\n",
    "- syntax errors\n",
    "- runtime errors\n",
    "- logical errors"
   ]
  },
  {
   "cell_type": "code",
   "execution_count": null,
   "metadata": {},
   "outputs": [],
   "source": [
    "# syntax error - misspelled print\n",
    "prin(\"hej\")\n"
   ]
  },
  {
   "cell_type": "code",
   "execution_count": null,
   "metadata": {},
   "outputs": [],
   "source": [
    "# runtime error - detects when executing program\n",
    "numbers = list(range(19))\n",
    "numbers[19]"
   ]
  },
  {
   "cell_type": "code",
   "execution_count": null,
   "metadata": {},
   "outputs": [],
   "source": [
    "import numpy as np\n",
    "\n",
    "radius = 10\n",
    "# np.pi * radius**2 is the area of the circle -> logical error\n",
    "area_circle = radius * np.pi\n",
    "print(f\"{area_circle = :.2f} a.u.\")"
   ]
  },
  {
   "cell_type": "code",
   "execution_count": null,
   "metadata": {},
   "outputs": [],
   "source": [
    "# correct solution - 314.16 a.u.\n",
    "radius = 10\n",
    "area_circle = radius**2 * np.pi\n",
    "print(f\"{area_circle = :.2f} a.u.\")"
   ]
  },
  {
   "cell_type": "markdown",
   "metadata": {},
   "source": [
    "# Handle errors\n",
    "- try - except"
   ]
  },
  {
   "cell_type": "code",
   "execution_count": null,
   "metadata": {},
   "outputs": [],
   "source": [
    "age = input(\"Enter your age: \")\n",
    "age"
   ]
  },
  {
   "cell_type": "code",
   "execution_count": null,
   "metadata": {},
   "outputs": [],
   "source": [
    "while True:\n",
    "    try:\n",
    "        # type casting might give ValueError\n",
    "        age = int(input(\"Enter your age: \"))\n",
    "        if not 0 <= age <= 125:\n",
    "            raise ValueError(f\"Age must be between 0 and 125 not {age}\")\n",
    "        break\n",
    "    except ValueError as err:\n",
    "        print(err)\n",
    "\n",
    "age"
   ]
  },
  {
   "cell_type": "markdown",
   "metadata": {},
   "source": [
    "# Functions\n",
    "\n",
    "- avoid spaghetti code\n",
    "- change one place\n",
    "- DRY - Don't Repeat Yourself\n",
    "- organize code\n",
    "- make code modular\n",
    "- break down complex programs"
   ]
  },
  {
   "cell_type": "code",
   "execution_count": null,
   "metadata": {},
   "outputs": [],
   "source": [
    "# number1 and number2 are parameters\n",
    "def smallest_of_two(number1, number2):\n",
    "    return number1 if number1 < number2 else number2 # one line if-else\n",
    "# IN Java code: number1 ? number1 < number2: number2\n",
    "\n",
    "# positional arguments\n",
    "smallest_of_two(2, -5)"
   ]
  },
  {
   "cell_type": "code",
   "execution_count": null,
   "metadata": {},
   "outputs": [],
   "source": [
    "# keyword arguments\n",
    "smallest_of_two(number1=-5, number2=-5)"
   ]
  },
  {
   "cell_type": "code",
   "execution_count": null,
   "metadata": {},
   "outputs": [],
   "source": [
    "# mixed arguments\n",
    "smallest_of_two(-5, number2=-9)"
   ]
  },
  {
   "cell_type": "markdown",
   "metadata": {},
   "source": [
    "## Default value"
   ]
  },
  {
   "cell_type": "code",
   "execution_count": null,
   "metadata": {},
   "outputs": [],
   "source": [
    "# number_rows = 5 is a default value\n",
    "def draw_ascii_pattern(number_rows=5):\n",
    "    for i in range(1, number_rows + 1):\n",
    "        print(i * \"x \" + (number_rows - i) * \"o \")\n",
    "\n",
    "draw_ascii_pattern()\n",
    "draw_ascii_pattern(2)\n",
    "draw_ascii_pattern(4)"
   ]
  },
  {
   "cell_type": "code",
   "execution_count": null,
   "metadata": {},
   "outputs": [],
   "source": [
    "# number_rows = 5 is a default value\n",
    "def draw_ascii_pattern(number_rows=5):\n",
    "        print(number_rows * \"o\")\n",
    "\n",
    "draw_ascii_pattern()\n",
    "draw_ascii_pattern(2)\n",
    "draw_ascii_pattern(4)"
   ]
  },
  {
   "cell_type": "code",
   "execution_count": null,
   "metadata": {},
   "outputs": [],
   "source": [
    "# number_rows = 5 is a default value\n",
    "def draw_ascii_pattern(number_rows=5):\n",
    "    for i in range(number_rows):\n",
    "        print(f'{i * \"x \" + (number_rows-i) * \"o \"}')\n",
    "\n",
    "draw_ascii_pattern()\n"
   ]
  },
  {
   "cell_type": "markdown",
   "metadata": {},
   "source": [
    "### Arbitrary arguments, *args\n",
    "\n"
   ]
  },
  {
   "cell_type": "code",
   "execution_count": null,
   "metadata": {},
   "outputs": [],
   "source": [
    "def my_mean_(*args):\n",
    "    print(args)\n",
    "\n",
    "# prints a tuple\n",
    "my_mean_(1,2,3,4)\n",
    "my_mean_(1,2)"
   ]
  },
  {
   "cell_type": "code",
   "execution_count": null,
   "metadata": {},
   "outputs": [],
   "source": [
    "def mean_(*args):\n",
    "    sum_ = 0\n",
    "    for arg in args:\n",
    "        sum_ += arg\n",
    "    return sum_ / len(args)\n",
    "\n",
    "print(mean_(1,2,3,4))"
   ]
  },
  {
   "cell_type": "markdown",
   "metadata": {},
   "source": [
    "### Keyword arguments, **kwargs"
   ]
  },
  {
   "cell_type": "code",
   "execution_count": null,
   "metadata": {},
   "outputs": [],
   "source": [
    "def print_kwargs(**options):\n",
    "    print(options)\n",
    "    print(f\"{options.keys()=}\")\n",
    "    print(f\"{options.values()=}\")\n",
    "\n",
    "\n",
    "print_kwargs(a = 5, is_active = True, age = 47)"
   ]
  },
  {
   "cell_type": "markdown",
   "metadata": {},
   "source": [
    "# File handling"
   ]
  },
  {
   "cell_type": "code",
   "execution_count": null,
   "metadata": {},
   "outputs": [],
   "source": [
    "import re\n",
    "\n",
    "with open(\"data/ml_text_raw.txt\", 'r') as file:\n",
    "    raw_text = file.read()\n",
    "    # print(raw_text)\n",
    "\n",
    "re.sub(r\"\\s\",\" \",raw_text)"
   ]
  },
  {
   "cell_type": "code",
   "execution_count": null,
   "metadata": {},
   "outputs": [],
   "source": [
    "text_fixed_spacing = re.sub(r\"\\s+\",\" \",raw_text)\n",
    "\n",
    "text_fixed_spacing.split(\". \")"
   ]
  },
  {
   "cell_type": "code",
   "execution_count": null,
   "metadata": {},
   "outputs": [],
   "source": [
    "sentences = [text.capitalize() for text in text_fixed_spacing.split(\". \")]\n",
    "\n",
    "sentences = sentences[:-1]\n",
    "sentences"
   ]
  },
  {
   "cell_type": "code",
   "execution_count": null,
   "metadata": {},
   "outputs": [],
   "source": [
    "cleaned_text = \".\\n\".join(sentences)\n",
    "print(cleaned_text)"
   ]
  },
  {
   "cell_type": "code",
   "execution_count": 45,
   "metadata": {},
   "outputs": [],
   "source": [
    "with open(\"data/cleaned_ml_text.txt\", \"w\") as file:\n",
    "    file.write(cleaned_text)"
   ]
  }
 ],
 "metadata": {
  "kernelspec": {
   "display_name": ".venv",
   "language": "python",
   "name": "python3"
  },
  "language_info": {
   "codemirror_mode": {
    "name": "ipython",
    "version": 3
   },
   "file_extension": ".py",
   "mimetype": "text/x-python",
   "name": "python",
   "nbconvert_exporter": "python",
   "pygments_lexer": "ipython3",
   "version": "3.13.0"
  }
 },
 "nbformat": 4,
 "nbformat_minor": 2
}
