{
 "cells": [
  {
   "cell_type": "markdown",
   "metadata": {},
   "source": [
    "# Coinmarket EDA"
   ]
  },
  {
   "cell_type": "code",
   "execution_count": 19,
   "metadata": {},
   "outputs": [
    {
     "data": {
      "text/plain": [
       "{'status': {'timestamp': '2025-02-07T09:34:29.862Z',\n",
       "  'error_code': 0,\n",
       "  'error_message': None,\n",
       "  'elapsed': 26,\n",
       "  'credit_count': 1,\n",
       "  'notice': None},\n",
       " 'data': {'BTC': {'id': 1,\n",
       "   'name': 'Bitcoin',\n",
       "   'symbol': 'BTC',\n",
       "   'slug': 'bitcoin',\n",
       "   'num_market_pairs': 11928,\n",
       "   'date_added': '2010-07-13T00:00:00.000Z',\n",
       "   'tags': ['mineable',\n",
       "    'pow',\n",
       "    'sha-256',\n",
       "    'store-of-value',\n",
       "    'state-channel',\n",
       "    'coinbase-ventures-portfolio',\n",
       "    'three-arrows-capital-portfolio',\n",
       "    'polychain-capital-portfolio',\n",
       "    'binance-labs-portfolio',\n",
       "    'blockchain-capital-portfolio',\n",
       "    'boostvc-portfolio',\n",
       "    'cms-holdings-portfolio',\n",
       "    'dcg-portfolio',\n",
       "    'dragonfly-capital-portfolio',\n",
       "    'electric-capital-portfolio',\n",
       "    'fabric-ventures-portfolio',\n",
       "    'framework-ventures-portfolio',\n",
       "    'galaxy-digital-portfolio',\n",
       "    'huobi-capital-portfolio',\n",
       "    'alameda-research-portfolio',\n",
       "    'a16z-portfolio',\n",
       "    '1confirmation-portfolio',\n",
       "    'winklevoss-capital-portfolio',\n",
       "    'usv-portfolio',\n",
       "    'placeholder-ventures-portfolio',\n",
       "    'pantera-capital-portfolio',\n",
       "    'multicoin-capital-portfolio',\n",
       "    'paradigm-portfolio',\n",
       "    'bitcoin-ecosystem',\n",
       "    'ftx-bankruptcy-estate',\n",
       "    '2017-2018-alt-season'],\n",
       "   'max_supply': 21000000,\n",
       "   'circulating_supply': 19820856,\n",
       "   'total_supply': 19820856,\n",
       "   'is_active': 1,\n",
       "   'infinite_supply': False,\n",
       "   'platform': None,\n",
       "   'cmc_rank': 1,\n",
       "   'is_fiat': 0,\n",
       "   'self_reported_circulating_supply': None,\n",
       "   'self_reported_market_cap': None,\n",
       "   'tvl_ratio': None,\n",
       "   'last_updated': '2025-02-07T09:32:00.000Z',\n",
       "   'quote': {'USD': {'price': 97231.19144574997,\n",
       "     'volume_24h': 48500960413.59592,\n",
       "     'volume_change_24h': 9.9423,\n",
       "     'percent_change_1h': 0.29107591,\n",
       "     'percent_change_24h': -1.34614831,\n",
       "     'percent_change_7d': -6.7452252,\n",
       "     'percent_change_30d': 1.51912382,\n",
       "     'percent_change_60d': -1.55092512,\n",
       "     'percent_change_90d': 26.93650692,\n",
       "     'market_cap': 1927205444354.6418,\n",
       "     'market_cap_dominance': 60.6976,\n",
       "     'fully_diluted_market_cap': 2041855020360.75,\n",
       "     'tvl': None,\n",
       "     'last_updated': '2025-02-07T09:32:00.000Z'}}}}}"
      ]
     },
     "execution_count": 19,
     "metadata": {},
     "output_type": "execute_result"
    }
   ],
   "source": [
    "from requests import Request, Session\n",
    "from requests.exceptions import ConnectionError, Timeout, TooManyRedirects\n",
    "import json\n",
    "from pprint import pprint\n",
    "from dotenv import load_dotenv\n",
    "import os\n",
    "\n",
    "load_dotenv()\n",
    "\n",
    "API_KEY = os.getenv(\"COINMARKET_API\")\n",
    "\n",
    "API_URL = \"https://pro-api.coinmarketcap.com/v1/cryptocurrency/quotes/latest\"\n",
    "\n",
    "target_symbol = \"BTC\"\n",
    "\n",
    "parameters = {\n",
    "  'symbol':target_symbol,\n",
    "  'convert':'USD'\n",
    "}\n",
    "headers = {\n",
    "  'Accepts': 'application/json',\n",
    "  'X-CMC_PRO_API_KEY': API_KEY,\n",
    "}\n",
    "\n",
    "session = Session()\n",
    "session.headers.update(headers)\n",
    "\n",
    "try:\n",
    "  response = session.get(API_URL, params=parameters)\n",
    "  data = json.loads(response.text)\n",
    "#   pprint(data)\n",
    "except (ConnectionError, Timeout, TooManyRedirects) as e:\n",
    "  print(e)\n",
    "\n",
    "data"
   ]
  },
  {
   "cell_type": "code",
   "execution_count": 20,
   "metadata": {},
   "outputs": [
    {
     "data": {
      "text/plain": [
       "dict_keys(['status', 'data'])"
      ]
     },
     "execution_count": 20,
     "metadata": {},
     "output_type": "execute_result"
    }
   ],
   "source": [
    "data.keys()"
   ]
  },
  {
   "cell_type": "code",
   "execution_count": 21,
   "metadata": {},
   "outputs": [
    {
     "data": {
      "text/plain": [
       "dict_keys(['BTC'])"
      ]
     },
     "execution_count": 21,
     "metadata": {},
     "output_type": "execute_result"
    }
   ],
   "source": [
    "data[\"data\"].keys()"
   ]
  },
  {
   "cell_type": "code",
   "execution_count": 22,
   "metadata": {},
   "outputs": [
    {
     "data": {
      "text/plain": [
       "{'id': 1,\n",
       " 'name': 'Bitcoin',\n",
       " 'symbol': 'BTC',\n",
       " 'slug': 'bitcoin',\n",
       " 'num_market_pairs': 11928,\n",
       " 'date_added': '2010-07-13T00:00:00.000Z',\n",
       " 'tags': ['mineable',\n",
       "  'pow',\n",
       "  'sha-256',\n",
       "  'store-of-value',\n",
       "  'state-channel',\n",
       "  'coinbase-ventures-portfolio',\n",
       "  'three-arrows-capital-portfolio',\n",
       "  'polychain-capital-portfolio',\n",
       "  'binance-labs-portfolio',\n",
       "  'blockchain-capital-portfolio',\n",
       "  'boostvc-portfolio',\n",
       "  'cms-holdings-portfolio',\n",
       "  'dcg-portfolio',\n",
       "  'dragonfly-capital-portfolio',\n",
       "  'electric-capital-portfolio',\n",
       "  'fabric-ventures-portfolio',\n",
       "  'framework-ventures-portfolio',\n",
       "  'galaxy-digital-portfolio',\n",
       "  'huobi-capital-portfolio',\n",
       "  'alameda-research-portfolio',\n",
       "  'a16z-portfolio',\n",
       "  '1confirmation-portfolio',\n",
       "  'winklevoss-capital-portfolio',\n",
       "  'usv-portfolio',\n",
       "  'placeholder-ventures-portfolio',\n",
       "  'pantera-capital-portfolio',\n",
       "  'multicoin-capital-portfolio',\n",
       "  'paradigm-portfolio',\n",
       "  'bitcoin-ecosystem',\n",
       "  'ftx-bankruptcy-estate',\n",
       "  '2017-2018-alt-season'],\n",
       " 'max_supply': 21000000,\n",
       " 'circulating_supply': 19820856,\n",
       " 'total_supply': 19820856,\n",
       " 'is_active': 1,\n",
       " 'infinite_supply': False,\n",
       " 'platform': None,\n",
       " 'cmc_rank': 1,\n",
       " 'is_fiat': 0,\n",
       " 'self_reported_circulating_supply': None,\n",
       " 'self_reported_market_cap': None,\n",
       " 'tvl_ratio': None,\n",
       " 'last_updated': '2025-02-07T09:32:00.000Z',\n",
       " 'quote': {'USD': {'price': 97231.19144574997,\n",
       "   'volume_24h': 48500960413.59592,\n",
       "   'volume_change_24h': 9.9423,\n",
       "   'percent_change_1h': 0.29107591,\n",
       "   'percent_change_24h': -1.34614831,\n",
       "   'percent_change_7d': -6.7452252,\n",
       "   'percent_change_30d': 1.51912382,\n",
       "   'percent_change_60d': -1.55092512,\n",
       "   'percent_change_90d': 26.93650692,\n",
       "   'market_cap': 1927205444354.6418,\n",
       "   'market_cap_dominance': 60.6976,\n",
       "   'fully_diluted_market_cap': 2041855020360.75,\n",
       "   'tvl': None,\n",
       "   'last_updated': '2025-02-07T09:32:00.000Z'}}}"
      ]
     },
     "execution_count": 22,
     "metadata": {},
     "output_type": "execute_result"
    }
   ],
   "source": [
    "coind_data =data[\"data\"][\"BTC\"]\n",
    "coind_data"
   ]
  },
  {
   "cell_type": "code",
   "execution_count": 23,
   "metadata": {},
   "outputs": [
    {
     "data": {
      "text/plain": [
       "('Bitcoin',\n",
       " 'BTC',\n",
       " {'USD': {'price': 97231.19144574997,\n",
       "   'volume_24h': 48500960413.59592,\n",
       "   'volume_change_24h': 9.9423,\n",
       "   'percent_change_1h': 0.29107591,\n",
       "   'percent_change_24h': -1.34614831,\n",
       "   'percent_change_7d': -6.7452252,\n",
       "   'percent_change_30d': 1.51912382,\n",
       "   'percent_change_60d': -1.55092512,\n",
       "   'percent_change_90d': 26.93650692,\n",
       "   'market_cap': 1927205444354.6418,\n",
       "   'market_cap_dominance': 60.6976,\n",
       "   'fully_diluted_market_cap': 2041855020360.75,\n",
       "   'tvl': None,\n",
       "   'last_updated': '2025-02-07T09:32:00.000Z'}})"
      ]
     },
     "execution_count": 23,
     "metadata": {},
     "output_type": "execute_result"
    }
   ],
   "source": [
    "coind_data[\"name\"], coind_data[\"symbol\"], coind_data[\"quote\"]"
   ]
  },
  {
   "cell_type": "code",
   "execution_count": 24,
   "metadata": {},
   "outputs": [
    {
     "data": {
      "text/plain": [
       "{'price': 97231.19144574997,\n",
       " 'volume_24h': 48500960413.59592,\n",
       " 'volume_change_24h': 9.9423,\n",
       " 'percent_change_1h': 0.29107591,\n",
       " 'percent_change_24h': -1.34614831,\n",
       " 'percent_change_7d': -6.7452252,\n",
       " 'percent_change_30d': 1.51912382,\n",
       " 'percent_change_60d': -1.55092512,\n",
       " 'percent_change_90d': 26.93650692,\n",
       " 'market_cap': 1927205444354.6418,\n",
       " 'market_cap_dominance': 60.6976,\n",
       " 'fully_diluted_market_cap': 2041855020360.75,\n",
       " 'tvl': None,\n",
       " 'last_updated': '2025-02-07T09:32:00.000Z'}"
      ]
     },
     "execution_count": 24,
     "metadata": {},
     "output_type": "execute_result"
    }
   ],
   "source": [
    "quote = coind_data[\"quote\"][\"USD\"]\n",
    "quote"
   ]
  },
  {
   "cell_type": "code",
   "execution_count": 25,
   "metadata": {},
   "outputs": [
    {
     "data": {
      "text/plain": [
       "(97231.19144574997, 48500960413.59592, '2025-02-07T09:32:00.000Z')"
      ]
     },
     "execution_count": 25,
     "metadata": {},
     "output_type": "execute_result"
    }
   ],
   "source": [
    "quote[\"price\"], quote[\"volume_24h\"], quote[\"last_updated\"]"
   ]
  }
 ],
 "metadata": {
  "kernelspec": {
   "display_name": ".venv",
   "language": "python",
   "name": "python3"
  },
  "language_info": {
   "codemirror_mode": {
    "name": "ipython",
    "version": 3
   },
   "file_extension": ".py",
   "mimetype": "text/x-python",
   "name": "python",
   "nbconvert_exporter": "python",
   "pygments_lexer": "ipython3",
   "version": "3.12.8"
  }
 },
 "nbformat": 4,
 "nbformat_minor": 2
}
